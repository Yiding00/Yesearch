{
 "cells": [
  {
   "cell_type": "code",
   "execution_count": 1,
   "metadata": {},
   "outputs": [
    {
     "name": "stdout",
     "output_type": "stream",
     "text": [
      "过滤得到的论文数： 573\n"
     ]
    }
   ],
   "source": [
    "from pyalex import Works\n",
    "from utils import save_papers_info_rssfeed\n",
    "\n",
    "keywords = '\"residual learning\" OR \"image recognition\"'\n",
    "\n",
    "w = Works().filter(from_publication_date=\"2015-07-01\", to_publication_date=\"2017-07-31\")\n",
    "w.filter(title={\"search\":keywords})\n",
    "print(\"过滤得到的论文数：\",w.count())\n",
    "\n",
    "xml_file_path = 'openalex_works.xml'\n",
    "save_papers_info_rssfeed(xml_file_path, w)\n"
   ]
  }
 ],
 "metadata": {
  "kernelspec": {
   "display_name": "w",
   "language": "python",
   "name": "python3"
  },
  "language_info": {
   "codemirror_mode": {
    "name": "ipython",
    "version": 3
   },
   "file_extension": ".py",
   "mimetype": "text/x-python",
   "name": "python",
   "nbconvert_exporter": "python",
   "pygments_lexer": "ipython3",
   "version": "3.12.5"
  }
 },
 "nbformat": 4,
 "nbformat_minor": 2
}
