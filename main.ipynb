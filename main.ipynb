{
 "cells": [
  {
   "cell_type": "code",
   "execution_count": 1,
   "metadata": {},
   "outputs": [
    {
     "name": "stdout",
     "output_type": "stream",
     "text": [
      "过滤得到的论文数： 739\n"
     ]
    }
   ],
   "source": [
    "from Y_Reader import Y_Reader\n",
    "from Y_Searcher import filter_from_month, filter_recent_n_years\n",
    "from utils import check_database, check_METADATA\n",
    "check_database()\n",
    "check_METADATA()\n",
    "\n",
    "# keywords = '\"causal discovery\" OR \"relation learning\" OR \"structure learning\"'\n",
    "keywords = '\"residual learning\"'\n",
    "# filter_from_month(keywords, 2024, 1)\n",
    "filter_recent_n_years(keywords, 10)\n",
    "app = Y_Reader()\n",
    "app.mainloop()"
   ]
  }
 ],
 "metadata": {
  "kernelspec": {
   "display_name": "Python 3",
   "language": "python",
   "name": "python3"
  },
  "language_info": {
   "codemirror_mode": {
    "name": "ipython",
    "version": 3
   },
   "file_extension": ".py",
   "mimetype": "text/x-python",
   "name": "python",
   "nbconvert_exporter": "python",
   "pygments_lexer": "ipython3",
   "version": "3.12.5"
  }
 },
 "nbformat": 4,
 "nbformat_minor": 2
}
